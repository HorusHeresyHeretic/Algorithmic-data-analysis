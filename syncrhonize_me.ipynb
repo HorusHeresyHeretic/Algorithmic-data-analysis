{
 "cells": [
  {
   "cell_type": "code",
   "execution_count": null,
   "metadata": {},
   "outputs": [],
   "source": [
    "\"\"\"обязательный блок на работу с данными и воспоизводства графиков cufflinks в оффлайн режиме\n",
    "   график будет работать оффлайн в автономном файле, но не будет отображаться в team`s\n",
    "   однако его можно будет скачать из team`s и посмотреть автономном на любой машине\"\"\"\n",
    "\n",
    "import pandas as pd\n",
    "import numpy as np\n",
    "import matplotlib\n",
    "import cufflinks as cf\n",
    "import plotly\n",
    "import plotly.offline as py\n",
    "import plotly.graph_objs as go\n",
    "\n",
    "\"\"\"cf.go_offline() нужно кастить внутрь ячейки\"\"\"\n",
    "\n",
    "py.init_notebook_mode() # graphs charts inline (IPython).\n",
    "\n",
    "\"\"\"дополнительный блок на решение прикладных задач\"\"\"\n",
    "\n",
    "from __future__ import division, print_function\n",
    "\n",
    "import warnings\n",
    "warnings.filterwarnings('ignore')\n",
    "\n",
    "import datetime\n",
    "import datetime as dt\n",
    "from collections import Counter\n",
    "\n",
    "\"\"\"Настройка глобальной темы cufflinks\"\"\"\n",
    "\n",
    "import cufflinks\n",
    "cufflinks.set_config_file(world_readable=True, theme='pearl', offline=True)\n",
    "\n",
    "\"\"\"Настройка работы интерактивного сеанса\"\"\"\n",
    "\n",
    "from plotly.offline import download_plotlyjs, init_notebook_mode, plot, iplot\n",
    "init_notebook_mode(connected=True)\n",
    "pd.set_option('display.max_columns', 64)\n",
    "\n",
    "\"\"\"сначала mask, потом всё остальное - cufflinks едет только по чистым данным и не любит мои функции преобразования\"\"\""
   ]
  },
  {
   "cell_type": "code",
   "execution_count": null,
   "metadata": {
    "collapsed": true
   },
   "outputs": [],
   "source": [
    "def warp_age(df, start, end, title):\n",
    "    \"\"\"фукнция принимает датафрейм, производит переработку данных необходимую для построения графика и строки график в периоде\"\"\"\n",
    "    df['year'] = df['_Дата'].map(lambda x: str(x)[:-6])\n",
    "    df['_Дата'] = pd.to_datetime(df['_Дата'], errors='coerce')\n",
    "    df = df.dropna(subset=['_Дата'])\n",
    "    df = df.sort_values(by='_Дата', ascending =False)\n",
    "    df = df.set_index('_Дата',drop=False)\n",
    "    start = datetime.datetime( start,1, 1)\n",
    "    end = datetime.datetime(end , 12, 31)\n",
    "    mask = (df['_Дата'] > start) & (df['_Дата'] <= end)\n",
    "    df = df.loc[mask]  \n",
    "    return df[['_ДатаНАч', '_ДатаКон']].iplot(y='_ДатаНАч', mode='lines+markers', secondary_y = '_ДатаКон',\n",
    "    secondary_y_title='Дата окончания ремонта', xTitle=title, yTitle='Дата начала ремонта')\n",
    "\n",
    "\n",
    "def pony_in_action(df):\n",
    "    \"\"\"эта фукнция перерабатывает датафрейм чтобы всё остальное работало\n",
    "       функция большая, вам она без надобности, скажи спасибо что я\n",
    "       саму функцию графика показал.    \n",
    "    \"\"\"   \n",
    "    return df\n",
    "\n"
   ]
  },
  {
   "cell_type": "code",
   "execution_count": null,
   "metadata": {},
   "outputs": [],
   "source": [
    "warp_age(df_1, 2016,2019, 'Общий график ремонта по ремонтным листам в периоде 16-19 гг')\n",
    "\n",
    "cf.go_offline()"
   ]
  }
 ],
 "metadata": {
  "kernelspec": {
   "display_name": "Python 3",
   "language": "python",
   "name": "python3"
  },
  "language_info": {
   "codemirror_mode": {
    "name": "ipython",
    "version": 3
   },
   "file_extension": ".py",
   "mimetype": "text/x-python",
   "name": "python",
   "nbconvert_exporter": "python",
   "pygments_lexer": "ipython3",
   "version": "3.6.1"
  }
 },
 "nbformat": 4,
 "nbformat_minor": 2
}
